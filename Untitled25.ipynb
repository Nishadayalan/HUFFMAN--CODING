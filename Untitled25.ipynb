{
 "cells": [
  {
   "cell_type": "code",
   "execution_count": 1,
   "id": "e120285c-bf46-4b9e-a443-be7e57b58652",
   "metadata": {},
   "outputs": [],
   "source": [
    "# expt-11-huffman coding\n",
    "\n",
    "# Step 1: Get the input string\n",
    "input_string = \"NISHA D\"  # Example input string"
   ]
  },
  {
   "cell_type": "code",
   "execution_count": 2,
   "id": "0808a4fb-5b20-4b7b-b367-6108e765eacb",
   "metadata": {},
   "outputs": [],
   "source": [
    "# Step 2: Calculate frequency of each character in the input string\n",
    "frequency = {}\n",
    "for char in input_string:\n",
    "    if char in frequency:\n",
    "        frequency[char] += 1\n",
    "    else:\n",
    "        frequency[char] = 1"
   ]
  },
  {
   "cell_type": "code",
   "execution_count": 3,
   "id": "9dc6a633-fdda-46e3-b6b7-5f66bb326d31",
   "metadata": {},
   "outputs": [],
   "source": [
    "# Step 3: Create tree nodes\n",
    "nodes = [[char, freq] for char, freq in frequency.items()]"
   ]
  },
  {
   "cell_type": "code",
   "execution_count": 6,
   "id": "e23a0737-11b6-421e-9f55-ae2354b5f4c7",
   "metadata": {},
   "outputs": [],
   "source": [
    "# Step 4: Main function to implement Huffman coding\n",
    "while len(nodes) > 1:\n",
    "    # Sort nodes based on frequency\n",
    "    nodes = sorted(nodes, key=lambda x: x[1])\n",
    "    # Pick two smallest nodes\n",
    "    left = nodes.pop(0)\n",
    "    right = nodes.pop(0)\n",
    "\n",
    "    # Create a new node with combined frequency\n",
    "    new_node = [[left, right], left[1] + right[1]]\n",
    "    nodes.append(new_node)\n",
    "\n",
    "\n",
    "# The final node is the Huffman tree\n",
    "huffman_tree = nodes[0]\n"
   ]
  },
  {
   "cell_type": "code",
   "execution_count": 7,
   "id": "9c258973-fd70-4a90-9999-5867eeeb5a1a",
   "metadata": {},
   "outputs": [],
   "source": [
    "# Step 5: Generate Huffman codes\n",
    "huffman_codes = {}\n",
    "\n",
    "def generate_codes(tree, code=\"\"):\n",
    "    if isinstance(tree[0], str):  # If it's a leaf node\n",
    "        huffman_codes[tree[0]] = code\n",
    "    else:  # If it's an internal node, recurse\n",
    "        generate_codes(tree[0][0], code + \"0\")\n",
    "        generate_codes(tree[0][1], code + \"1\")\n",
    "\n",
    "generate_codes(huffman_tree)"
   ]
  },
  {
   "cell_type": "code",
   "execution_count": 8,
   "id": "caf7a54e-5b92-48c9-ae24-ebc282e5a165",
   "metadata": {},
   "outputs": [
    {
     "name": "stdout",
     "output_type": "stream",
     "text": [
      "Character | Huffman Code\n",
      "-------------------------\n",
      "    D    |    00\n",
      "    N    |    010\n",
      "    I    |    011\n",
      "    S    |    100\n",
      "    H    |    101\n",
      "    A    |    110\n",
      "         |    111\n"
     ]
    }
   ],
   "source": [
    "# Step 6: Print the characters and their Huffman codes\n",
    "print(\"Character | Huffman Code\")\n",
    "print(\"-------------------------\")\n",
    "for char, code in huffman_codes.items():\n",
    "    print(f\"    {char}    |    {code}\")"
   ]
  },
  {
   "cell_type": "code",
   "execution_count": null,
   "id": "511b45d7-e5fb-49ac-b0f2-1b4bc9a69fbd",
   "metadata": {},
   "outputs": [],
   "source": []
  }
 ],
 "metadata": {
  "kernelspec": {
   "display_name": "Python 3 (ipykernel)",
   "language": "python",
   "name": "python3"
  },
  "language_info": {
   "codemirror_mode": {
    "name": "ipython",
    "version": 3
   },
   "file_extension": ".py",
   "mimetype": "text/x-python",
   "name": "python",
   "nbconvert_exporter": "python",
   "pygments_lexer": "ipython3",
   "version": "3.11.11"
  }
 },
 "nbformat": 4,
 "nbformat_minor": 5
}
